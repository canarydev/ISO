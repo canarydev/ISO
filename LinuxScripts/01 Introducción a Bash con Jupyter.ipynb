{
 "cells": [
  {
   "cell_type": "markdown",
   "id": "617b5b20-4f28-4115-8ccd-cc9f96f66a88",
   "metadata": {
    "tags": []
   },
   "source": [
    "# Introducción a Bash con Jupyter\n",
    "\n",
    "## Un nuevo cuaderno\n",
    "\n",
    "Te estarás preguntando qué es Jupyter. Bueno, Jupyter es un entorno web que permite desarrollar y generar informes de manera sencilla.\n",
    "\n",
    "He dedidido usarlo porque parece que no terminamos de arrancar a la hora de aprender a hacer scripts, así que esta herramienta facilita la tarea de aprender utilizando cuadernos.\n",
    "\n",
    "**¿Qué es un cuaderno?**, te estarás preguntando. Bueno, es una mezcla de celdas en Markdown (las celdas de texto) y código (las celdas que nos permiten programar) con las que podremos hacer cosas muy chulas e ir probando poco a poco...\n",
    "\n",
    "Pero no te quiero entretener mucho más, lo mejor es que vayas aprendiendo poco a poco, siguiendo los siguientes ejemplos."
   ]
  },
  {
   "cell_type": "markdown",
   "id": "58415a82-3ffd-4080-a597-fd7f9d4f7f2d",
   "metadata": {
    "tags": []
   },
   "source": [
    "## Bienvenido al mundo Pokémon\n",
    "<img src=\"https://www.spriters-resource.com/resources/sheet_icons/4/3701.png\" alt=\"MarineGEO circle logo\"/>\n",
    "\n",
    "Hola, mi nombre es Oak, aunque todo el mundo me conoce como Profesor Oak.\n",
    "\n",
    "Este mundo está habitado por maravillosas criaturas llamadas Pokémon y yo soy el encargado de estudiarlas, aunque estoy buscando a alguien que pueda ayudarme.\n",
    "\n",
    "Dime, ¿el nombre que aparece bajo la siguiente celda es el tuyo?"
   ]
  },
  {
   "cell_type": "code",
   "execution_count": 6,
   "id": "41babbf6-5b2f-4478-8f99-2ba9420bd2af",
   "metadata": {
    "tags": []
   },
   "outputs": [
    {
     "name": "stdout",
     "output_type": "stream",
     "text": [
      "admin\n"
     ]
    }
   ],
   "source": [
    "whoami"
   ]
  },
  {
   "cell_type": "markdown",
   "id": "6fb8b9f1-c31b-44e6-bee6-526536065fad",
   "metadata": {},
   "source": [
    "**Si no te aparece tu nombre, es que algo puede estar mal**. O puede ser que **no hayas ejecutado la celda anterior**.\n",
    "\n",
    "Para ejecutar una celda, puedes hacerlo dándole al símbolo de play que hay más arriba o con la combinación de teclas **shift + enter**."
   ]
  },
  {
   "cell_type": "markdown",
   "id": "adb24be6-a461-419f-99b1-a81f2950e887",
   "metadata": {},
   "source": [
    "Como puedes observar `whoami` muestra el nombre del usuario actual. Debería corresponderse con el tuyo. Si no es así, **contacta urgentemente con tus padres para que te lo cambien**.\n",
    "\n",
    "**Bueno, al lío**. No tenemos todo el día. Voy a enseñarte los tres Pokémon iniciales que podrás elegir para esta aventura. Charmander, Squirtle y Bulbasaur.\n",
    "\n",
    "<img src=\"https://pngimg.com/uploads/pokemon/pokemon_PNG125.png\" alt=\"Charmander\" style=\"height: 100px; width:100px;\"/> <img src=\"https://pngimg.com/uploads/pokemon/pokemon_PNG116.png\" alt=\"Squirtle\" style=\"height: 100px; width:100px;\"/> <img src=\"https://pngimg.com/uploads/pokemon/pokemon_PNG52.png\" alt=\"Bulbasaur\" style=\"height: 100px; width:100px;\"/>\n",
    "\n",
    "Cada uno de ellos tiene fortalezas y debilidades, pero eso ya lo irás descubriendo.\n",
    "\n",
    "He preparado un pequeño menú para que elijas al tuyo Sólo tienes que ir ejecutando cada una de las líneas e introducir un valor, de 1 a 3 en la variable `selection`, que por defecto está a 0."
   ]
  },
  {
   "cell_type": "code",
   "execution_count": null,
   "id": "d7ea8bdd-0b6b-4ec1-abce-2a0b79a9a5a6",
   "metadata": {},
   "outputs": [],
   "source": [
    "echo \"Selecciona una opción del menú:\"\n",
    "echo \"1) Charmander\"\n",
    "echo \"2) Squirtle\"\n",
    "echo \"3) Bulbasaur\"\n"
   ]
  },
  {
   "cell_type": "code",
   "execution_count": null,
   "id": "29187a48-22f0-4c26-8a3a-0e4eb87900e7",
   "metadata": {},
   "outputs": [],
   "source": [
    "selection=0"
   ]
  },
  {
   "cell_type": "code",
   "execution_count": null,
   "id": "ac1f5ff9-4918-47e1-9705-f8b8bc99d545",
   "metadata": {},
   "outputs": [],
   "source": [
    "  case $selection in\n",
    "    1) echo \"¡Has elegido a Charmander!\" && pokemonInicial=\"Charmander\" ;;\n",
    "    2) echo \"¡Has elegido a Squirtle!\" && pokemonInicial=\"Squirtle\" ;;\n",
    "    3) echo \"¡Has elegido a Bulbasaur!\" && pokemonInicial=\"Bulbasaur\" ;;\n",
    "    *) echo \"Escribe una opción válida\" ;;\n",
    "  esac"
   ]
  },
  {
   "cell_type": "markdown",
   "id": "bdbf3758-ae6a-41d3-b891-17dac7d93965",
   "metadata": {},
   "source": [
    "## ¡Jupyter recuerda!\n",
    "Como lo oyes, o como lo lees, Jupyter es capaz de recordar las cosas que ha ido ejecutando, por ejemplo, es capa de saber el Pokemon que has elegido. ¿Quieres comprobarlo? Ejecuta la siguiente línea."
   ]
  },
  {
   "cell_type": "code",
   "execution_count": null,
   "id": "565528b1-2645-4a93-a3dc-89752134cf09",
   "metadata": {},
   "outputs": [],
   "source": [
    "echo Hola $(whoami), ¿qué tal está tu $pokemonInicial?"
   ]
  },
  {
   "cell_type": "markdown",
   "id": "56148a78-3103-46bd-852c-95defd0e3c2d",
   "metadata": {},
   "source": [
    "Eso sí, **sólo es capaz de recordar aquellas cosas que hayas ejecutado con el kernel actual**.\n",
    "\n"
   ]
  }
 ],
 "metadata": {
  "kernelspec": {
   "display_name": "Bash",
   "language": "bash",
   "name": "bash"
  },
  "language_info": {
   "codemirror_mode": "shell",
   "file_extension": ".sh",
   "mimetype": "text/x-sh",
   "name": "bash"
  }
 },
 "nbformat": 4,
 "nbformat_minor": 5
}
