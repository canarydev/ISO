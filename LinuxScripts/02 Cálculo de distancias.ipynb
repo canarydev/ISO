{
 "cells": [
  {
   "cell_type": "markdown",
   "id": "50e735b1-58f8-4ff5-a6db-2d0a1df7c5de",
   "metadata": {},
   "source": [
    "# Cálculo de distancias\n",
    "Introduce debajo los valores a calcular:"
   ]
  },
  {
   "cell_type": "code",
   "execution_count": 35,
   "id": "a05b8a67-760a-440d-87ea-e5475945dba9",
   "metadata": {},
   "outputs": [],
   "source": [
    "X1=4\n",
    "Y1=2\n",
    "X2=-3\n",
    "Y2=5"
   ]
  },
  {
   "cell_type": "markdown",
   "id": "77900a64-3067-466d-9b3e-2f119df4f38a",
   "metadata": {
    "tags": []
   },
   "source": [
    "## Distancia euclídea\n",
    "La fórmula de la distancia euclídea entre dos puntos es la siguiente:\n",
    "$$\n",
    "d_E(P,Q) = \\sqrt{(p_1-q_1)^{2}+(p_2-q_2)^{2}}\\,\n",
    "$$"
   ]
  },
  {
   "cell_type": "code",
   "execution_count": 43,
   "id": "53726e73-ce34-458a-9d31-00befdcb5537",
   "metadata": {},
   "outputs": [
    {
     "name": "stdout",
     "output_type": "stream",
     "text": [
      "La distancia euclídea es: 7.6157\n"
     ]
    }
   ],
   "source": [
    "euc=$(echo \"scale=4;sqrt( (($X1-($X2))^2) + (($Y1-($Y2))^2) )\" | bc)\n",
    "echo \"La distancia euclídea es: $euc\""
   ]
  },
  {
   "cell_type": "markdown",
   "id": "4a63dea0-9222-4f9b-b6c6-2d7b2a9907f7",
   "metadata": {},
   "source": [
    "## Distancia Manhattan\n",
    "La fórmula de la distancia Manhattan entre dos puntos es la siguiente:\n",
    "$$\n",
    "d_M(P,Q) = |(p_1-q_1)|+|(p_2-q_2)|\\,\n",
    "$$"
   ]
  },
  {
   "cell_type": "code",
   "execution_count": 44,
   "id": "bed3d277-9cbb-4ee3-b8f0-78912ffc6820",
   "metadata": {},
   "outputs": [
    {
     "name": "stdout",
     "output_type": "stream",
     "text": [
      "La distancia Manhattan es: 10\n"
     ]
    }
   ],
   "source": [
    "manX=$(echo \"sqrt(($X1-($X2))^2)\" | bc)\n",
    "manY=$(echo \"sqrt(($Y1-($Y2))^2)\" | bc)\n",
    "echo \"La distancia Manhattan es: $man\""
   ]
  },
  {
   "cell_type": "markdown",
   "id": "21c8ba48-1e2c-40d3-ad74-c532912d47b3",
   "metadata": {},
   "source": [
    "## Distancia Chebyshov\n",
    "La fórmula de la distancia Chebyshov entre dos puntos es la siguiente:\n",
    "$$\n",
    "d_M(P,Q) = max(|(p_1-q_1)|,|(p_2-q_2)|)\\,\n",
    "$$"
   ]
  },
  {
   "cell_type": "code",
   "execution_count": 45,
   "id": "c049b785-0465-4b83-9cdd-ee6333f93110",
   "metadata": {},
   "outputs": [
    {
     "name": "stdout",
     "output_type": "stream",
     "text": [
      "La distancia Chebyshov es: 7\n"
     ]
    }
   ],
   "source": [
    "cheb=$((manX >= manY ? manX : manY ))\n",
    "echo \"La distancia Chebyshov es: $cheb\""
   ]
  },
  {
   "cell_type": "markdown",
   "id": "061c6fa9-1336-4d34-8fb1-9db854d86d00",
   "metadata": {},
   "source": [
    "PD: Si deseas ver de dónde he sacado la forma de escribir las fórmulas, entra en https://katex.org/docs/supported.html"
   ]
  }
 ],
 "metadata": {
  "kernelspec": {
   "display_name": "Bash",
   "language": "bash",
   "name": "bash"
  },
  "language_info": {
   "codemirror_mode": "shell",
   "file_extension": ".sh",
   "mimetype": "text/x-sh",
   "name": "bash"
  }
 },
 "nbformat": 4,
 "nbformat_minor": 5
}
